{
 "cells": [
  {
   "cell_type": "code",
   "execution_count": 1,
   "id": "bce72c3f-003c-44a5-a2f5-dbad06f3b6df",
   "metadata": {},
   "outputs": [],
   "source": [
    "import mitosheet"
   ]
  },
  {
   "cell_type": "code",
   "execution_count": 2,
   "id": "8f561dd5-66ff-4e75-a200-4769bd7294e1",
   "metadata": {},
   "outputs": [
    {
     "data": {
      "application/vnd.jupyter.widget-view+json": {
       "model_id": "fa9dd3fc6ce64e0eaefd1a290980b78c",
       "version_major": 2,
       "version_minor": 0
      },
      "text/plain": [
       "MitoWidget(analysis_data_json='{\"analysisName\": \"UUID-4c4b0a6d-4aa5-405d-a600-019e14162ba3\", \"code\": {\"imports…"
      ]
     },
     "metadata": {},
     "output_type": "display_data"
    }
   ],
   "source": [
    "mitosheet.sheet()"
   ]
  },
  {
   "cell_type": "code",
   "execution_count": null,
   "id": "c43e74ec-54a0-4b4b-aa7d-de49c6aee013",
   "metadata": {},
   "outputs": [],
   "source": [
    "from mitosheet import *; register_analysis('UUID-4c4b0a6d-4aa5-405d-a600-019e14162ba3')\n",
    "\n",
    "# Imported movies.csv\n",
    "import pandas as pd\n",
    "movies_csv = pd.read_csv(r'movies.csv')\n"
   ]
  }
 ],
 "metadata": {
  "kernelspec": {
   "display_name": "Python 3 (ipykernel)",
   "language": "python",
   "name": "python3"
  },
  "language_info": {
   "codemirror_mode": {
    "name": "ipython",
    "version": 3
   },
   "file_extension": ".py",
   "mimetype": "text/x-python",
   "name": "python",
   "nbconvert_exporter": "python",
   "pygments_lexer": "ipython3",
   "version": "3.9.7"
  }
 },
 "nbformat": 4,
 "nbformat_minor": 5
}
